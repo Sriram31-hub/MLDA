import pandas as pd
import numpy as np
from sklearn.model_selection import train_test_split
from sklearn.preprocessing import StandardScaler, OneHotEncoder
from sklearn.compose import ColumnTransformer
from sklearn.pipeline import Pipeline
from sklearn.impute import SimpleImputer
df=pd.read_csv('food.csv')
df.head()
for col in ['Price', 'Quantity']:
    df[col]=df[col].replace(',','',regex=True).astype(float)
df.head() 
num_features = ["Price"]
cat_features = ["Product", "Purchase Type", "Payment Method", "Manager", "City"]


num_transformer = Pipeline(steps=[
    ("imputer", SimpleImputer(strategy="mean")),
    ("scaler", StandardScaler())
])

cat_transformer = Pipeline(steps=[
    ("imputer", SimpleImputer(strategy="most_frequent")),
    ("onehot", OneHotEncoder(handle_unknown="ignore", sparse_output=False))
])
preprocessor = ColumnTransformer(
    transformers=[
        ("num", num_transformer, ["Price", "Quantity"]),
        ("cat", cat_transformer, ["Product", "Purchase Type", "Payment Method", "Manager", "City"])
    ])

preprocessor.set_output(transform="pandas")
data_preprocessed = preprocessor.fit_transform(df)
print(data_preprocessed.head())

X = data_preprocessed
y = df['Price']
X_train, X_test, y_train, y_test = train_test_split(X,
y, test_size=0.2, random_state=42)


print(X_train.head())
print(y_train.head())
