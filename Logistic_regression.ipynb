{
  "nbformat": 4,
  "nbformat_minor": 0,
  "metadata": {
    "colab": {
      "provenance": []
    },
    "kernelspec": {
      "name": "python3",
      "display_name": "Python 3"
    },
    "language_info": {
      "name": "python"
    }
  },
  "cells": [
    {
      "cell_type": "code",
      "source": [
        "import pandas as pd\n",
        "from sklearn.preprocessing import LabelEncoder, StandardScaler\n",
        "from sklearn.model_selection import train_test_split\n",
        "from sklearn.linear_model import LogisticRegression\n",
        "from sklearn.metrics import accuracy_score\n",
        "from sklearn.pipeline import make_pipeline\n",
        "\n",
        "\n",
        "data = pd.read_csv(\"food.csv\")\n",
        "print(data.head())\n",
        "\n",
        "le = LabelEncoder()\n",
        "for col in [\"Product\", \"Payment Method\", \"Manager\", \"City\"]:\n",
        "    data[col] = le.fit_transform(data[col])\n",
        "\n",
        "data[\"Purchase Type\"] = le.fit_transform(data[\"Purchase Type\"])\n",
        "\n",
        "print(data.head())\n",
        "\n",
        "\n",
        "X = data[[\"Product\", \"Price\", \"Quantity\", \"Payment Method\", \"Manager\", \"City\"]]\n",
        "y = data[\"Purchase Type\"]\n",
        "\n",
        "\n",
        "x_train, x_test, y_train, y_test = train_test_split(X, y, test_size=0.2, random_state=2)\n",
        "\n",
        "lr = make_pipeline(StandardScaler(), LogisticRegression(max_iter=2000))\n",
        "\n",
        "lr.fit(x_train, y_train)\n",
        "\n",
        "\n",
        "y_lr_pred = lr.predict(x_test)\n",
        "\n",
        "print(\"y_test shape:\", y_test.shape)\n",
        "print(\"y_lr_pred shape:\", y_lr_pred.shape)\n",
        "accuracy_lr = accuracy_score(y_test, y_lr_pred)\n",
        "print(\"Logistic Regression Accuracy:\", accuracy_lr)"
      ],
      "metadata": {
        "colab": {
          "base_uri": "https://localhost:8080/"
        },
        "id": "fIliUu_2iP0V",
        "outputId": "06a3e8e5-ab06-4654-ce62-71fd0764f5c8"
      },
      "execution_count": 2,
      "outputs": [
        {
          "output_type": "stream",
          "name": "stdout",
          "text": [
            "   Order ID        Date             Product  Price  Quantity Purchase Type  \\\n",
            "0     10452  07-11-2022               Fries   3.49    573.07       Online    \n",
            "1     10453  07-11-2022           Beverages   2.95    745.76       Online    \n",
            "2     10454  07-11-2022       Sides & Other   4.99    200.40     In-store    \n",
            "3     10455  08-11-2022             Burgers  12.99    569.67     In-store    \n",
            "4     10456  08-11-2022  Chicken Sandwiches   9.95    201.01     In-store    \n",
            "\n",
            "  Payment Method             Manager    City  \n",
            "0      Gift Card    Tom      Jackson  London  \n",
            "1      Gift Card         Pablo Perez  Madrid  \n",
            "2      Gift Card       Joao    Silva  Lisbon  \n",
            "3    Credit Card       Walter Muller  Berlin  \n",
            "4    Credit Card       Walter Muller  Berlin  \n",
            "   Order ID        Date  Product  Price  Quantity  Purchase Type  \\\n",
            "0     10452  07-11-2022        3   3.49    573.07              2   \n",
            "1     10453  07-11-2022        0   2.95    745.76              2   \n",
            "2     10454  07-11-2022        4   4.99    200.40              1   \n",
            "3     10455  08-11-2022        1  12.99    569.67              1   \n",
            "4     10456  08-11-2022        2   9.95    201.01              1   \n",
            "\n",
            "   Payment Method  Manager  City  \n",
            "0               2       11     2  \n",
            "1               2        0     3  \n",
            "2               2        2     1  \n",
            "3               1       13     0  \n",
            "4               1       13     0  \n",
            "y_test shape: (51,)\n",
            "y_lr_pred shape: (51,)\n",
            "Logistic Regression Accuracy: 0.5686274509803921\n"
          ]
        }
      ]
    }
  ]
}