import pandas as pd
from sklearn.preprocessing import LabelEncoder
from sklearn.model_selection import train_test_split
from sklearn.linear_model import LinearRegression
from sklearn.metrics import mean_squared_error, r2_score


data = pd.read_csv("food.csv")
print(data.head())

le = LabelEncoder()
for col in ["Product", "Purchase Type", "Payment Method", "Manager", "City"]:
    data[col] = le.fit_transform(data[col])

print(data.head())


X = data[["Product", "Price", "Purchase Type", "Payment Method", "Manager", "City"]]
y = data["Quantity"]


x_train, x_test, y_train, y_test = train_test_split(X, y, test_size=0.2, random_state=2)


lrr = LinearRegression()
lrr.fit(x_train, y_train)

y_lrr_pred = lrr.predict(x_test)


mse = mean_squared_error(y_test, y_lrr_pred)
r2 = r2_score(y_test, y_lrr_pred)

print("Linear Regression MSE:", mse)
print("Linear Regression R²:", r2)
