{
  "nbformat": 4,
  "nbformat_minor": 0,
  "metadata": {
    "colab": {
      "provenance": []
    },
    "kernelspec": {
      "name": "python3",
      "display_name": "Python 3"
    },
    "language_info": {
      "name": "python"
    }
  },
  "cells": [
    {
      "cell_type": "code",
      "source": [
        "import pandas as pd\n",
        "from sklearn.preprocessing import LabelEncoder\n",
        "from sklearn.model_selection import train_test_split\n",
        "from sklearn.linear_model import LinearRegression\n",
        "from sklearn.metrics import mean_squared_error, r2_score\n",
        "\n",
        "\n",
        "data = pd.read_csv(\"food.csv\")\n",
        "print(data.head())\n",
        "\n",
        "le = LabelEncoder()\n",
        "for col in [\"Product\", \"Purchase Type\", \"Payment Method\", \"Manager\", \"City\"]:\n",
        "    data[col] = le.fit_transform(data[col])\n",
        "\n",
        "print(data.head())\n",
        "\n",
        "\n",
        "X = data[[\"Product\", \"Price\", \"Purchase Type\", \"Payment Method\", \"Manager\", \"City\"]]\n",
        "y = data[\"Quantity\"]\n",
        "\n",
        "\n",
        "x_train, x_test, y_train, y_test = train_test_split(X, y, test_size=0.2, random_state=2)\n",
        "\n",
        "\n",
        "lrr = LinearRegression()\n",
        "lrr.fit(x_train, y_train)\n",
        "\n",
        "y_lrr_pred = lrr.predict(x_test)\n",
        "\n",
        "\n",
        "mse = mean_squared_error(y_test, y_lrr_pred)\n",
        "r2 = r2_score(y_test, y_lrr_pred)\n",
        "\n",
        "print(\"Linear Regression MSE:\", mse)\n",
        "print(\"Linear Regression R²:\", r2)"
      ],
      "metadata": {
        "colab": {
          "base_uri": "https://localhost:8080/"
        },
        "id": "3y7s0fRuAW-b",
        "outputId": "84faac79-72f7-445b-ee65-68abf207c30b"
      },
      "execution_count": null,
      "outputs": [
        {
          "output_type": "stream",
          "name": "stdout",
          "text": [
            "   Order ID        Date             Product  Price  Quantity Purchase Type  \\\n",
            "0     10452  07-11-2022               Fries   3.49    573.07       Online    \n",
            "1     10453  07-11-2022           Beverages   2.95    745.76       Online    \n",
            "2     10454  07-11-2022       Sides & Other   4.99    200.40     In-store    \n",
            "3     10455  08-11-2022             Burgers  12.99    569.67     In-store    \n",
            "4     10456  08-11-2022  Chicken Sandwiches   9.95    201.01     In-store    \n",
            "\n",
            "  Payment Method             Manager    City  \n",
            "0      Gift Card    Tom      Jackson  London  \n",
            "1      Gift Card         Pablo Perez  Madrid  \n",
            "2      Gift Card       Joao    Silva  Lisbon  \n",
            "3    Credit Card       Walter Muller  Berlin  \n",
            "4    Credit Card       Walter Muller  Berlin  \n",
            "   Order ID        Date  Product  Price  Quantity  Purchase Type  \\\n",
            "0     10452  07-11-2022        3   3.49    573.07              2   \n",
            "1     10453  07-11-2022        0   2.95    745.76              2   \n",
            "2     10454  07-11-2022        4   4.99    200.40              1   \n",
            "3     10455  08-11-2022        1  12.99    569.67              1   \n",
            "4     10456  08-11-2022        2   9.95    201.01              1   \n",
            "\n",
            "   Payment Method  Manager  City  \n",
            "0               2       11     2  \n",
            "1               2        0     3  \n",
            "2               2        2     1  \n",
            "3               1       13     0  \n",
            "4               1       13     0  \n",
            "Linear Regression MSE: 31802.879258254805\n",
            "Linear Regression R²: 0.33374181915387124\n"
          ]
        }
      ]
    }
  ]
}