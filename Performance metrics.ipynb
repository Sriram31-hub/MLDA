import pandas as pd
from sklearn.preprocessing import LabelEncoder
from sklearn.model_selection import train_test_split
from sklearn.tree import DecisionTreeClassifier
from sklearn.linear_model import LinearRegression
from sklearn.metrics import accuracy_score, mean_squared_error, r2_score


data = pd.read_csv("food.csv")
print(data.head())


le = LabelEncoder()
data["Product"] = le.fit_transform(data["Product"])
data["Purchase Type"] = le.fit_transform(data["Purchase Type"])
data["Payment Method"] = le.fit_transform(data["Payment Method"])
data["Manager"] = le.fit_transform(data["Manager"])
data["City"] = le.fit_transform(data["City"])


X = data[["Price", "Product", "Payment Method", "Manager", "City"]]


y_class = data["Purchase Type"]

X_train, X_test, y_train, y_test = train_test_split(X, y_class, test_size=0.2, random_state=2)

dt = DecisionTreeClassifier(criterion="entropy")
dt.fit(X_train, y_train)
y_dt_pred = dt.predict(X_test)
accuracy_dt = accuracy_score(y_test, y_dt_pred)
print("Decision Tree Accuracy (Purchase Type):", accuracy_dt)


y_reg = data["Quantity"]

X_train, X_test, y_train, y_test = train_test_split(X, y_reg, test_size=0.2, random_state=2)

lrr = LinearRegression()
lrr.fit(X_train, y_train)
y_lrr_pred = lrr.predict(X_test)

mse = mean_squared_error(y_test, y_lrr_pred)
r2 = r2_score(y_test, y_lrr_pred)

print("Linear Regression MSE (Quantity):", mse)
print("Linear Regression R² (Quantity):", r2)
