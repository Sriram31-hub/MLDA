{
  "nbformat": 4,
  "nbformat_minor": 0,
  "metadata": {
    "colab": {
      "provenance": []
    },
    "kernelspec": {
      "name": "python3",
      "display_name": "Python 3"
    },
    "language_info": {
      "name": "python"
    }
  },
  "cells": [
    {
      "cell_type": "code",
      "source": [
        "import pandas as pd\n",
        "from sklearn.preprocessing import LabelEncoder\n",
        "from sklearn.model_selection import train_test_split\n",
        "from sklearn.tree import DecisionTreeClassifier\n",
        "from sklearn.linear_model import LinearRegression\n",
        "from sklearn.metrics import accuracy_score, mean_squared_error, r2_score\n",
        "\n",
        "\n",
        "data = pd.read_csv(\"food.csv\")\n",
        "print(data.head())\n",
        "\n",
        "\n",
        "le = LabelEncoder()\n",
        "data[\"Product\"] = le.fit_transform(data[\"Product\"])\n",
        "data[\"Purchase Type\"] = le.fit_transform(data[\"Purchase Type\"])\n",
        "data[\"Payment Method\"] = le.fit_transform(data[\"Payment Method\"])\n",
        "data[\"Manager\"] = le.fit_transform(data[\"Manager\"])\n",
        "data[\"City\"] = le.fit_transform(data[\"City\"])\n",
        "\n",
        "\n",
        "X = data[[\"Price\", \"Product\", \"Payment Method\", \"Manager\", \"City\"]]\n",
        "\n",
        "\n",
        "y_class = data[\"Purchase Type\"]\n",
        "\n",
        "X_train, X_test, y_train, y_test = train_test_split(X, y_class, test_size=0.2, random_state=2)\n",
        "\n",
        "dt = DecisionTreeClassifier(criterion=\"entropy\")\n",
        "dt.fit(X_train, y_train)\n",
        "y_dt_pred = dt.predict(X_test)\n",
        "accuracy_dt = accuracy_score(y_test, y_dt_pred)\n",
        "print(\"Decision Tree Accuracy (Purchase Type):\", accuracy_dt)\n",
        "\n",
        "\n",
        "y_reg = data[\"Quantity\"]\n",
        "\n",
        "X_train, X_test, y_train, y_test = train_test_split(X, y_reg, test_size=0.2, random_state=2)\n",
        "\n",
        "lrr = LinearRegression()\n",
        "lrr.fit(X_train, y_train)\n",
        "y_lrr_pred = lrr.predict(X_test)\n",
        "\n",
        "mse = mean_squared_error(y_test, y_lrr_pred)\n",
        "r2 = r2_score(y_test, y_lrr_pred)\n",
        "\n",
        "print(\"Linear Regression MSE (Quantity):\", mse)\n",
        "print(\"Linear Regression R² (Quantity):\", r2)"
      ],
      "metadata": {
        "colab": {
          "base_uri": "https://localhost:8080/"
        },
        "id": "aP6jaPrM6kWH",
        "outputId": "9d3f2e8d-0fd2-43d2-bd10-802e59eb1bf0"
      },
      "execution_count": null,
      "outputs": [
        {
          "output_type": "stream",
          "name": "stdout",
          "text": [
            "   Order ID        Date             Product  Price  Quantity Purchase Type  \\\n",
            "0     10452  07-11-2022               Fries   3.49    573.07       Online    \n",
            "1     10453  07-11-2022           Beverages   2.95    745.76       Online    \n",
            "2     10454  07-11-2022       Sides & Other   4.99    200.40     In-store    \n",
            "3     10455  08-11-2022             Burgers  12.99    569.67     In-store    \n",
            "4     10456  08-11-2022  Chicken Sandwiches   9.95    201.01     In-store    \n",
            "\n",
            "  Payment Method             Manager    City  \n",
            "0      Gift Card    Tom      Jackson  London  \n",
            "1      Gift Card         Pablo Perez  Madrid  \n",
            "2      Gift Card       Joao    Silva  Lisbon  \n",
            "3    Credit Card       Walter Muller  Berlin  \n",
            "4    Credit Card       Walter Muller  Berlin  \n",
            "Decision Tree Accuracy (Purchase Type): 0.7843137254901961\n",
            "Linear Regression MSE (Quantity): 31383.185435609994\n",
            "Linear Regression R² (Quantity): 0.3425342445351395\n"
          ]
        }
      ]
    }
  ]
}